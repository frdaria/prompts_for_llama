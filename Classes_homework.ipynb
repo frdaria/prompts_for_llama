{
  "cells": [
    {
      "cell_type": "markdown",
      "metadata": {
        "id": "view-in-github",
        "colab_type": "text"
      },
      "source": [
        "<a href=\"https://colab.research.google.com/github/frdaria/prompts_for_llama/blob/main/Classes_homework.ipynb\" target=\"_parent\"><img src=\"https://colab.research.google.com/assets/colab-badge.svg\" alt=\"Open In Colab\"/></a>"
      ]
    },
    {
      "cell_type": "markdown",
      "source": [
        "### Задача 1"
      ],
      "metadata": {
        "id": "oKWnzXggG1fd"
      }
    },
    {
      "cell_type": "code",
      "execution_count": 1,
      "metadata": {
        "id": "deHBLDFBNR-_"
      },
      "outputs": [],
      "source": [
        "from collections import Counter\n",
        "import spacy"
      ]
    },
    {
      "cell_type": "code",
      "source": [
        "class NERExtractor:\n",
        "  def __init__(self):\n",
        "    self.nlp = spacy.load(\"en_core_web_sm\")\n",
        "    self.named_entities = []\n",
        "  def extract_named_entities(self, text):\n",
        "    doc = self.nlp(text)\n",
        "    entities = [(ent.text, ent.label_) for ent in doc.ents]\n",
        "    return entities\n",
        "\n",
        "class NERStats:\n",
        "\n",
        "  def __init__(self, text):\n",
        "    self.text = text\n",
        "    self.ner_extractor = NERExtractor()\n",
        "    self.freq = []\n",
        "\n",
        "\n",
        "  def analyze_entities(self, n):\n",
        "    self.ner_extractor.named_entities = self.ner_extractor.extract_named_entities(self.text)\n",
        "    for ent, lbl in self.ner_extractor.named_entities:\n",
        "      self.freq.append(str(lbl))\n",
        "    c = Counter(self.freq)\n",
        "    counter = c.most_common(n)\n",
        "    return counter\n",
        "\n",
        " # def display_most_common_entities(self, n):\n",
        "    #nerstats = NERStats(self.text)\n",
        "  #  list = nerstats.analyze_entities()\n",
        "   # self.counter_dict = dict(list)\n",
        "    #for x, y in self.counter_dict.items():\n",
        "     # print(f\"Label:  {x} -  Frequency:  {y}\")\n",
        "\n",
        "  def display_most_common_entities(self, n=3):\n",
        "    nerstats = self.analyze_entities(n)\n",
        "    for x, y in nerstats:\n",
        "      print(f\"Label:  {x} -  Frequency:  {y}\")\n",
        "\n",
        "nerstats = NERStats(\"Napoleon Bonaparte (born Napoleone di Buonaparte;[1][b] 15 August 1769 – 5 May 1821),\\\n",
        " later known by his regnal name Napoleon I, was a French emperor and military commander\\\n",
        " who rose to prominence during the French Revolution and led successful campaigns during\\\n",
        " the Revolutionary Wars. He was the leader of the French Republic as First Consul from 1799\\\n",
        " to 1804, then of the French Empire as Emperor of the French from 1804 until 1814, and briefly\\\n",
        " again in 1815. His political and cultural legacy endures as a celebrated and controversial leader.\\\n",
        " He initiated many enduring reforms, but has been criticized for his authoritarian rule. He is considered \\\n",
        " one of the greatest military commanders in history and his wars and campaigns are still studied at military\\\n",
        " schools worldwide. However, historians still debate whether\\\n",
        " he was responsible for the Napoleonic Wars in which between three and six million people died. \\\n",
        " Napoleon was born on the island of Corsica into a family descended from Italian nobility.\\\n",
        " He was resentful of the French monarchy, and supported the French Revolution in 1789 while \\\n",
        " serving in the French army, trying to spread its ideals to his native Corsica. He rose rapidly\\\n",
        " in the ranks after saving the governing French Directory by firing on royalist insurgents. \\\n",
        " In 1796, he began a military campaign against the Austrians and their Italian allies, scoring\\\n",
        " decisive victories, and became a national hero. Two years later he led a military expedition \\\n",
        " to Egypt that served as a springboard to political power. He engineered a coup in November 1799\\\n",
        " and became First Consul of the Republic.\\\n",
        " In 1804, to consolidate and expand his power, he crowned himself Emperor of the French.\")\n",
        "nerstats.display_most_common_entities()\n"
      ],
      "metadata": {
        "colab": {
          "base_uri": "https://localhost:8080/"
        },
        "id": "B9TCqKLwzb-F",
        "outputId": "b5d21171-a925-4a14-8ad5-e792b38f6835"
      },
      "execution_count": 2,
      "outputs": [
        {
          "output_type": "stream",
          "name": "stdout",
          "text": [
            "Label:  DATE -  Frequency:  11\n",
            "Label:  NORP -  Frequency:  10\n",
            "Label:  ORG -  Frequency:  4\n"
          ]
        }
      ]
    },
    {
      "cell_type": "markdown",
      "source": [
        "### Задача 2"
      ],
      "metadata": {
        "id": "puEoPqBPGvok"
      }
    },
    {
      "cell_type": "code",
      "source": [
        "\"\"\"\n",
        "Задача 2: LemmaStats\n",
        "\n",
        "import spacy\n",
        "from collections import Counter\n",
        "> Создать класс LemmaStats, который инициализирует документ и Spacy (посмотрите в аудиторной работе, как мы начинаем работу со Spacy; эту задачу лучше решать в Colab).\n",
        "> Метод lemmatize лемматизирует текст с помощью Spacy и создает для них частотный словарь.\n",
        "> Метод display_most_common_lemmas отображает n самых частотных лемм.\n",
        "\n",
        "Как работает программа:\n",
        "1) Лемматизируем текст с использованием Spacy\n",
        "2) Создаем частотный словарь для лемм\n",
        "3) Отображаем n самых частотных лемм\n",
        "\"\"\""
      ],
      "metadata": {
        "id": "EUfrfbigGuYq"
      },
      "execution_count": null,
      "outputs": []
    },
    {
      "cell_type": "code",
      "source": [
        "import spacy\n",
        "from collections import Counter\n",
        "import gensim\n",
        "from gensim.parsing.preprocessing import STOPWORDS\n",
        "import re # regex - библиотека для использования регулярных выражений"
      ],
      "metadata": {
        "id": "0DnW1rxnyAsq"
      },
      "execution_count": 7,
      "outputs": []
    },
    {
      "cell_type": "code",
      "source": [
        "class LemmaStats:\n",
        "\n",
        "  def __init__(self, text):\n",
        "    self.text = text\n",
        "    self.nlp = spacy.load('en_core_web_sm')\n",
        "    self.result_text = ''\n",
        "    self.tokens = []\n",
        "\n",
        "  def remove_punctuation(self):\n",
        "    self.result_text = re.sub(r'[^\\w\\s]', '', self.text)\n",
        "    return self.result_text\n",
        "\n",
        "  def lemmatize(self,n):\n",
        "    doc = self.nlp(self.remove_punctuation())\n",
        "    tokens = [token.lemma_ for token in doc]\n",
        "    c = Counter(tokens).most_common(n)\n",
        "    print(c)\n",
        "\n",
        "  def display_most_common_lemmas(self, n=3):\n",
        "    res = self.lemmatize(n)\n",
        "    print(res)\n",
        "\n",
        "lemmastats = LemmaStats(\"He spent the early years of the Revolution in Corsica,\\\n",
        "             fighting in a complex three-way struggle among royalists, revolutionaries, and \\\n",
        "             Corsican nationalists. Napoleon embraced the ideals of the Revolution, becoming a\\\n",
        "             supporter of the Jacobins and joining the pro-French Corsican Republicans who opposed\\\n",
        "             Paoli's policy and his aspirations to secede.[44] He was given command over a battalion\\\n",
        "             of volunteers and promoted to captain in the regular army in 1792, despite exceeding his\\\n",
        "             leave of absence and leading a riot against French troops.\")\n",
        "lemmastats.display_most_common_lemmas(3)\n"
      ],
      "metadata": {
        "colab": {
          "base_uri": "https://localhost:8080/"
        },
        "id": "HMXLpXdu95g6",
        "outputId": "c7b83794-1307-428a-8a91-053d6829cc4e"
      },
      "execution_count": 43,
      "outputs": [
        {
          "output_type": "stream",
          "name": "stdout",
          "text": [
            "[('the', 7), ('of', 5), ('            ', 5)]\n",
            "None\n"
          ]
        }
      ]
    },
    {
      "cell_type": "markdown",
      "source": [
        "### Задача 3"
      ],
      "metadata": {
        "id": "rbi7hBDrnGj6"
      }
    },
    {
      "cell_type": "code",
      "source": [
        "\"\"\"\n",
        "Задача 3: PoSStats\n",
        "\n",
        "import nltk\n",
        "from nltk.tokenize import word_tokenize\n",
        "from nltk import pos_tag\n",
        "from collections import Counter\n",
        "> Создать класс PoSStats, который инициализирует документ.\n",
        "> Функция tokenize_and_tag токенизирует и размечает части речи с помощью NLTK (методы word_tokenize и pos_tag; советую посмотреть документацию NLTK и свои предыдущие домашние работы).\n",
        "> Метод display_most_common_pos размечает тексты с помощью tokenize_and_tag и отображает n самых частотных частей речи.\n",
        "\n",
        "Как работает программа:\n",
        "1) Токенизируем и размечаем части речи с использованием NLTK\n",
        "2) Отображаем n самых частотных частей речи"
      ],
      "metadata": {
        "id": "nCmwH8CXZH-g"
      },
      "execution_count": null,
      "outputs": []
    },
    {
      "cell_type": "code",
      "source": [
        "import nltk\n",
        "from nltk.tokenize import word_tokenize\n",
        "from nltk import pos_tag\n",
        "from collections import Counter\n",
        "import re\n",
        "nltk.download('punkt')\n",
        "nltk.download('averaged_perceptron_tagger')"
      ],
      "metadata": {
        "colab": {
          "base_uri": "https://localhost:8080/"
        },
        "id": "IgSBtMm9ZUZJ",
        "outputId": "ddb4ade8-3808-4d38-b93b-00b4ef000c8f"
      },
      "execution_count": 45,
      "outputs": [
        {
          "output_type": "stream",
          "name": "stderr",
          "text": [
            "[nltk_data] Downloading package punkt to /root/nltk_data...\n",
            "[nltk_data]   Package punkt is already up-to-date!\n",
            "[nltk_data] Downloading package averaged_perceptron_tagger to\n",
            "[nltk_data]     /root/nltk_data...\n",
            "[nltk_data]   Package averaged_perceptron_tagger is already up-to-\n",
            "[nltk_data]       date!\n"
          ]
        },
        {
          "output_type": "execute_result",
          "data": {
            "text/plain": [
              "True"
            ]
          },
          "metadata": {},
          "execution_count": 45
        }
      ]
    },
    {
      "cell_type": "code",
      "source": [
        "class PoSStats:\n",
        "\n",
        "  def __init__(self, text):\n",
        "    self.text = text\n",
        "    self.result_text = ''\n",
        "\n",
        "    self.pos_tagging = []\n",
        "\n",
        "  def remove_punctuation(self):\n",
        "    self.result_text = re.sub(r'[^\\w\\s]', '', self.text)\n",
        "    return self.result_text\n",
        "\n",
        "  def tokenize_and_tag(self, n):\n",
        "    tokenized_text = nltk.word_tokenize(self.remove_punctuation())\n",
        "    self.pos_tagging.append(nltk.pos_tag(tokenized_text))\n",
        "    for i in self.pos_tagging:\n",
        "      c = Counter(i).most_common(n)\n",
        "    return c\n",
        "\n",
        "  def display_most_common_pos(self, n = 3):\n",
        "    res = self.tokenize_and_tag(n)\n",
        "    for i in res:\n",
        "      print(i)\n",
        "\n",
        "posstats = PoSStats(\"He spent the early years of the Revolution in Corsica,\\\n",
        "             fighting in a complex three-way struggle among royalists, revolutionaries, and \\\n",
        "             Corsican nationalists. Napoleon embraced the ideals of the Revolution, becoming a\\\n",
        "             supporter of the Jacobins and joining the pro-French Corsican Republicans who opposed\\\n",
        "             Paoli's policy and his aspirations to secede.[44] He was given command over a battalion\\\n",
        "             of volunteers and promoted to captain in the regular army in 1792, despite exceeding his\\\n",
        "             leave of absence and leading a riot against French troops.\")\n",
        "posstats.tokenize_and_tag(3)\n"
      ],
      "metadata": {
        "colab": {
          "base_uri": "https://localhost:8080/"
        },
        "id": "d8VGJ0ezZaaA",
        "outputId": "4763f4cc-45b8-429f-8130-5197b12b4096"
      },
      "execution_count": 54,
      "outputs": [
        {
          "output_type": "execute_result",
          "data": {
            "text/plain": [
              "[(('the', 'DT'), 7), (('of', 'IN'), 5), (('and', 'CC'), 5)]"
            ]
          },
          "metadata": {},
          "execution_count": 54
        }
      ]
    }
  ],
  "metadata": {
    "colab": {
      "provenance": [],
      "authorship_tag": "ABX9TyMOAuTp9Tl8C0tfKaGy1UFr",
      "include_colab_link": true
    },
    "kernelspec": {
      "display_name": "Python 3",
      "name": "python3"
    },
    "language_info": {
      "name": "python"
    }
  },
  "nbformat": 4,
  "nbformat_minor": 0
}